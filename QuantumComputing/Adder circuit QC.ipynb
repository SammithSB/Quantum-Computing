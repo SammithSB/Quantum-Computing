{
 "cells": [
  {
   "cell_type": "code",
   "execution_count": 2,
   "metadata": {},
   "outputs": [],
   "source": [
    "from qiskit import *"
   ]
  },
  {
   "cell_type": "code",
   "execution_count": 85,
   "metadata": {},
   "outputs": [
    {
     "name": "stdout",
     "output_type": "stream",
     "text": [
      "enter a number in binary with length less than 8: 1101\n",
      "enter another number in binary with length less than 8: 0001\n"
     ]
    }
   ],
   "source": [
    "l1=input(\"enter a number in binary with length less than 8: \")\n",
    "l2=input(\"enter another number in binary with length less than 8: \")\n",
    "if len(l1)>len(l2):\n",
    "    n=len(l1)\n",
    "else:\n",
    "    n=len(l2)\n",
    "\n",
    "\n",
    "a=QuantumRegister(n)\n",
    "b=QuantumRegister(n+1)\n",
    "c=QuantumRegister(n)\n",
    "cl=ClassicalRegister(n+1)\n"
   ]
  },
  {
   "cell_type": "code",
   "execution_count": 96,
   "metadata": {},
   "outputs": [],
   "source": [
    "circuit = QuantumCircuit(a,b,c,cl)"
   ]
  },
  {
   "cell_type": "code",
   "execution_count": 97,
   "metadata": {},
   "outputs": [
    {
     "data": {
      "text/html": [
       "<pre style=\"word-wrap: normal;white-space: pre;background: #fff0;line-height: 1.1;font-family: &quot;Courier New&quot;,Courier,monospace\">          \n",
       "q15_0: |0>\n",
       "          \n",
       "q15_1: |0>\n",
       "          \n",
       "q15_2: |0>\n",
       "          \n",
       "q15_3: |0>\n",
       "          \n",
       "q16_0: |0>\n",
       "          \n",
       "q16_1: |0>\n",
       "          \n",
       "q16_2: |0>\n",
       "          \n",
       "q16_3: |0>\n",
       "          \n",
       "q16_4: |0>\n",
       "          \n",
       "q17_0: |0>\n",
       "          \n",
       "q17_1: |0>\n",
       "          \n",
       "q17_2: |0>\n",
       "          \n",
       "q17_3: |0>\n",
       "          \n",
       "  c5_0: 0 \n",
       "          \n",
       "  c5_1: 0 \n",
       "          \n",
       "  c5_2: 0 \n",
       "          \n",
       "  c5_3: 0 \n",
       "          \n",
       "  c5_4: 0 \n",
       "          </pre>"
      ],
      "text/plain": [
       "<qiskit.visualization.text.TextDrawing at 0x1a22e80cd0>"
      ]
     },
     "execution_count": 97,
     "metadata": {},
     "output_type": "execute_result"
    }
   ],
   "source": [
    "circuit.draw()"
   ]
  },
  {
   "cell_type": "code",
   "execution_count": 98,
   "metadata": {},
   "outputs": [],
   "source": [
    "for i in range(len(l1)):\n",
    "    if l1[i]=='1':\n",
    "        circuit.x(a[len(l1)-(i+1)])\n",
    "for i in range(len(l2)):\n",
    "    if l2[i]=='1':\n",
    "        circuit.x(b[len(l2)-(i+1)])\n"
   ]
  },
  {
   "cell_type": "code",
   "execution_count": 99,
   "metadata": {},
   "outputs": [
    {
     "data": {
      "text/html": [
       "<pre style=\"word-wrap: normal;white-space: pre;background: #fff0;line-height: 1.1;font-family: &quot;Courier New&quot;,Courier,monospace\">          ┌───┐\n",
       "q15_0: |0>┤ X ├\n",
       "          └───┘\n",
       "q15_1: |0>─────\n",
       "          ┌───┐\n",
       "q15_2: |0>┤ X ├\n",
       "          ├───┤\n",
       "q15_3: |0>┤ X ├\n",
       "          ├───┤\n",
       "q16_0: |0>┤ X ├\n",
       "          └───┘\n",
       "q16_1: |0>─────\n",
       "               \n",
       "q16_2: |0>─────\n",
       "               \n",
       "q16_3: |0>─────\n",
       "               \n",
       "q16_4: |0>─────\n",
       "               \n",
       "q17_0: |0>─────\n",
       "               \n",
       "q17_1: |0>─────\n",
       "               \n",
       "q17_2: |0>─────\n",
       "               \n",
       "q17_3: |0>─────\n",
       "               \n",
       "  c5_0: 0 ═════\n",
       "               \n",
       "  c5_1: 0 ═════\n",
       "               \n",
       "  c5_2: 0 ═════\n",
       "               \n",
       "  c5_3: 0 ═════\n",
       "               \n",
       "  c5_4: 0 ═════\n",
       "               </pre>"
      ],
      "text/plain": [
       "<qiskit.visualization.text.TextDrawing at 0x1a22e887d0>"
      ]
     },
     "execution_count": 99,
     "metadata": {},
     "output_type": "execute_result"
    }
   ],
   "source": [
    "circuit.draw()"
   ]
  },
  {
   "cell_type": "code",
   "execution_count": 100,
   "metadata": {},
   "outputs": [
    {
     "data": {
      "text/plain": [
       "<qiskit.circuit.instructionset.InstructionSet at 0x1a22e80ed0>"
      ]
     },
     "execution_count": 100,
     "metadata": {},
     "output_type": "execute_result"
    }
   ],
   "source": [
    "\n",
    "for i in range(n-1):\n",
    "    circuit.ccx(a[i],b[i],c[i+1])\n",
    "    circuit.cx(a[i],b[i])\n",
    "    circuit.ccx(c[i],b[i],c[i+1])\n",
    "circuit.ccx(a[n-1], b[n-1], b[n])\n",
    "circuit.cx(a[n-1], b[n-1])\n",
    "circuit.ccx(c[n-1], b[n-1], b[n])\n"
   ]
  },
  {
   "cell_type": "code",
   "execution_count": 101,
   "metadata": {},
   "outputs": [
    {
     "data": {
      "text/html": [
       "<pre style=\"word-wrap: normal;white-space: pre;background: #fff0;line-height: 1.1;font-family: &quot;Courier New&quot;,Courier,monospace\">          ┌───┐                                                            \n",
       "q15_0: |0>┤ X ├───────■───────────────────■────────────────────────────────\n",
       "          └───┘       │                   │                                \n",
       "q15_1: |0>───────■────┼────■──────────────┼────────────────────────────────\n",
       "          ┌───┐  │    │    │              │                                \n",
       "q15_2: |0>┤ X ├──┼────┼────┼────■─────────┼────■───────────────────────────\n",
       "          ├───┤  │    │    │    │         │    │                           \n",
       "q15_3: |0>┤ X ├──┼────┼────┼────┼────■────┼────┼────■──────────────────────\n",
       "          ├───┤  │    │    │    │    │  ┌─┴─┐  │    │                      \n",
       "q16_0: |0>┤ X ├──┼────■────┼────┼────┼──┤ X ├──┼────┼────■─────────────────\n",
       "          └───┘  │    │  ┌─┴─┐  │    │  └───┘  │    │    │                 \n",
       "q16_1: |0>───────■────┼──┤ X ├──┼────┼─────────┼────┼────┼────■────────────\n",
       "                 │    │  └───┘  │    │       ┌─┴─┐  │    │    │            \n",
       "q16_2: |0>───────┼────┼─────────■────┼───────┤ X ├──┼────┼────┼────■───────\n",
       "                 │    │         │    │       └───┘┌─┴─┐  │    │    │       \n",
       "q16_3: |0>───────┼────┼─────────┼────■────────────┤ X ├──┼────┼────┼────■──\n",
       "                 │    │         │  ┌─┴─┐          └───┘  │    │    │  ┌─┴─┐\n",
       "q16_4: |0>───────┼────┼─────────┼──┤ X ├─────────────────┼────┼────┼──┤ X ├\n",
       "                 │    │         │  └───┘                 │    │    │  └─┬─┘\n",
       "q17_0: |0>───────┼────┼─────────┼────────────────────────■────┼────┼────┼──\n",
       "                 │  ┌─┴─┐       │                      ┌─┴─┐  │    │    │  \n",
       "q17_1: |0>───────┼──┤ X ├───────┼──────────────────────┤ X ├──■────┼────┼──\n",
       "               ┌─┴─┐└───┘       │                      └───┘┌─┴─┐  │    │  \n",
       "q17_2: |0>─────┤ X ├────────────┼───────────────────────────┤ X ├──■────┼──\n",
       "               └───┘          ┌─┴─┐                         └───┘┌─┴─┐  │  \n",
       "q17_3: |0>────────────────────┤ X ├──────────────────────────────┤ X ├──■──\n",
       "                              └───┘                              └───┘     \n",
       "  c5_0: 0 ═════════════════════════════════════════════════════════════════\n",
       "                                                                           \n",
       "  c5_1: 0 ═════════════════════════════════════════════════════════════════\n",
       "                                                                           \n",
       "  c5_2: 0 ═════════════════════════════════════════════════════════════════\n",
       "                                                                           \n",
       "  c5_3: 0 ═════════════════════════════════════════════════════════════════\n",
       "                                                                           \n",
       "  c5_4: 0 ═════════════════════════════════════════════════════════════════\n",
       "                                                                           </pre>"
      ],
      "text/plain": [
       "<qiskit.visualization.text.TextDrawing at 0x1a22c33d10>"
      ]
     },
     "execution_count": 101,
     "metadata": {},
     "output_type": "execute_result"
    }
   ],
   "source": [
    "circuit.draw()"
   ]
  },
  {
   "cell_type": "code",
   "execution_count": 102,
   "metadata": {},
   "outputs": [],
   "source": [
    "for i in range(n-1):\n",
    "    circuit.ccx(c[(n-2)-i], b[(n-2)-i], c[(n-1)-i])\n",
    "    circuit.cx(a[(n-2)-i], b[(n-2)-i])\n",
    "    circuit.ccx(a[(n-2)-i], b[(n-2)-i], c[(n-1)-i])\n",
    "    circuit.cx(c[(n-2)-i], b[(n-2)-i])\n",
    "    circuit.cx(a[(n-2)-i], b[(n-2)-i])\n"
   ]
  },
  {
   "cell_type": "code",
   "execution_count": 103,
   "metadata": {},
   "outputs": [],
   "source": [
    "for i in range(n+1):\n",
    "    circuit.measure(b[i],cl[i])"
   ]
  },
  {
   "cell_type": "code",
   "execution_count": 104,
   "metadata": {},
   "outputs": [
    {
     "data": {
      "text/html": [
       "<pre style=\"word-wrap: normal;white-space: pre;background: #fff0;line-height: 1.1;font-family: &quot;Courier New&quot;,Courier,monospace\">          ┌───┐                                                            »\n",
       "q15_0: |0>┤ X ├───────■───────────────────■────────────────────────────────»\n",
       "          └───┘       │                   │                                »\n",
       "q15_1: |0>───────■────┼────■──────────────┼────────────────────────────────»\n",
       "          ┌───┐  │    │    │              │                                »\n",
       "q15_2: |0>┤ X ├──┼────┼────┼────■─────────┼────■───────────────────────────»\n",
       "          ├───┤  │    │    │    │         │    │                           »\n",
       "q15_3: |0>┤ X ├──┼────┼────┼────┼────■────┼────┼────■──────────────────────»\n",
       "          ├───┤  │    │    │    │    │  ┌─┴─┐  │    │                      »\n",
       "q16_0: |0>┤ X ├──┼────■────┼────┼────┼──┤ X ├──┼────┼────■─────────────────»\n",
       "          └───┘  │    │  ┌─┴─┐  │    │  └───┘  │    │    │                 »\n",
       "q16_1: |0>───────■────┼──┤ X ├──┼────┼─────────┼────┼────┼────■────────────»\n",
       "                 │    │  └───┘  │    │       ┌─┴─┐  │    │    │            »\n",
       "q16_2: |0>───────┼────┼─────────■────┼───────┤ X ├──┼────┼────┼────■───────»\n",
       "                 │    │         │    │       └───┘┌─┴─┐  │    │    │       »\n",
       "q16_3: |0>───────┼────┼─────────┼────■────────────┤ X ├──┼────┼────┼────■──»\n",
       "                 │    │         │  ┌─┴─┐          └───┘  │    │    │  ┌─┴─┐»\n",
       "q16_4: |0>───────┼────┼─────────┼──┤ X ├─────────────────┼────┼────┼──┤ X ├»\n",
       "                 │    │         │  └───┘                 │    │    │  └─┬─┘»\n",
       "q17_0: |0>───────┼────┼─────────┼────────────────────────■────┼────┼────┼──»\n",
       "                 │  ┌─┴─┐       │                      ┌─┴─┐  │    │    │  »\n",
       "q17_1: |0>───────┼──┤ X ├───────┼──────────────────────┤ X ├──■────┼────┼──»\n",
       "               ┌─┴─┐└───┘       │                      └───┘┌─┴─┐  │    │  »\n",
       "q17_2: |0>─────┤ X ├────────────┼───────────────────────────┤ X ├──■────┼──»\n",
       "               └───┘          ┌─┴─┐                         └───┘┌─┴─┐  │  »\n",
       "q17_3: |0>────────────────────┤ X ├──────────────────────────────┤ X ├──■──»\n",
       "                              └───┘                              └───┘     »\n",
       "  c5_0: 0 ═════════════════════════════════════════════════════════════════»\n",
       "                                                                           »\n",
       "  c5_1: 0 ═════════════════════════════════════════════════════════════════»\n",
       "                                                                           »\n",
       "  c5_2: 0 ═════════════════════════════════════════════════════════════════»\n",
       "                                                                           »\n",
       "  c5_3: 0 ═════════════════════════════════════════════════════════════════»\n",
       "                                                                           »\n",
       "  c5_4: 0 ═════════════════════════════════════════════════════════════════»\n",
       "                                                                           »\n",
       "«                                                                           »\n",
       "«q15_0: ────────────────────────────────────────────────────────────■────■──»\n",
       "«                                                                   │    │  »\n",
       "«q15_1: ───────────────────────────────────■────■─────────■─────────┼────┼──»\n",
       "«                                          │    │         │         │    │  »\n",
       "«q15_2: ───────■───────■─────────■─────────┼────┼─────────┼─────────┼────┼──»\n",
       "«              │       │         │         │    │         │         │    │  »\n",
       "«q15_3: ───────┼───────┼─────────┼─────────┼────┼─────────┼─────────┼────┼──»\n",
       "«              │       │         │         │    │         │       ┌─┴─┐  │  »\n",
       "«q16_0: ───────┼───────┼─────────┼─────────┼────┼─────────┼────■──┤ X ├──■──»\n",
       "«              │       │         │       ┌─┴─┐  │  ┌───┐┌─┴─┐  │  └┬─┬┘  │  »\n",
       "«q16_1: ───────┼───────┼─────────┼────■──┤ X ├──■──┤ X ├┤ X ├──┼───┤M├───┼──»\n",
       "«            ┌─┴─┐     │  ┌───┐┌─┴─┐  │  └┬─┬┘  │  └─┬─┘└───┘  │   └╥┘   │  »\n",
       "«q16_2: ──■──┤ X ├─────■──┤ X ├┤ X ├──┼───┤M├───┼────┼─────────┼────╫────┼──»\n",
       "«         │  └┬─┬┘     │  └─┬─┘└───┘  │   └╥┘   │    │         │    ║    │  »\n",
       "«q16_3: ──┼───┤M├──────┼────┼─────────┼────╫────┼────┼─────────┼────╫────┼──»\n",
       "«         │   └╥┘ ┌─┐  │    │         │    ║    │    │         │    ║    │  »\n",
       "«q16_4: ──┼────╫──┤M├──┼────┼─────────┼────╫────┼────┼─────────┼────╫────┼──»\n",
       "«         │    ║  └╥┘  │    │         │    ║    │    │         │    ║    │  »\n",
       "«q17_0: ──┼────╫───╫───┼────┼─────────┼────╫────┼────┼─────────■────╫────┼──»\n",
       "«         │    ║   ║   │    │         │    ║    │    │       ┌─┴─┐  ║  ┌─┴─┐»\n",
       "«q17_1: ──┼────╫───╫───┼────┼─────────■────╫────┼────■───────┤ X ├──╫──┤ X ├»\n",
       "«         │    ║   ║   │    │       ┌─┴─┐  ║  ┌─┴─┐          └───┘  ║  └───┘»\n",
       "«q17_2: ──■────╫───╫───┼────■───────┤ X ├──╫──┤ X ├─────────────────╫───────»\n",
       "«       ┌─┴─┐  ║   ║ ┌─┴─┐          └───┘  ║  └───┘                 ║       »\n",
       "«q17_3: ┤ X ├──╫───╫─┤ X ├─────────────────╫────────────────────────╫───────»\n",
       "«       └───┘  ║   ║ └───┘                 ║                        ║       »\n",
       "« c5_0: ═══════╬═══╬═══════════════════════╬════════════════════════╬═══════»\n",
       "«              ║   ║                       ║                        ║       »\n",
       "« c5_1: ═══════╬═══╬═══════════════════════╬════════════════════════╩═══════»\n",
       "«              ║   ║                       ║                                »\n",
       "« c5_2: ═══════╬═══╬═══════════════════════╩════════════════════════════════»\n",
       "«              ║   ║                                                        »\n",
       "« c5_3: ═══════╩═══╬════════════════════════════════════════════════════════»\n",
       "«                  ║                                                        »\n",
       "« c5_4: ═══════════╩════════════════════════════════════════════════════════»\n",
       "«                                                                           »\n",
       "«                    \n",
       "«q15_0: ───────■─────\n",
       "«              │     \n",
       "«q15_1: ───────┼─────\n",
       "«              │     \n",
       "«q15_2: ───────┼─────\n",
       "«              │     \n",
       "«q15_3: ───────┼─────\n",
       "«       ┌───┐┌─┴─┐┌─┐\n",
       "«q16_0: ┤ X ├┤ X ├┤M├\n",
       "«       └─┬─┘└───┘└╥┘\n",
       "«q16_1: ──┼────────╫─\n",
       "«         │        ║ \n",
       "«q16_2: ──┼────────╫─\n",
       "«         │        ║ \n",
       "«q16_3: ──┼────────╫─\n",
       "«         │        ║ \n",
       "«q16_4: ──┼────────╫─\n",
       "«         │        ║ \n",
       "«q17_0: ──■────────╫─\n",
       "«                  ║ \n",
       "«q17_1: ───────────╫─\n",
       "«                  ║ \n",
       "«q17_2: ───────────╫─\n",
       "«                  ║ \n",
       "«q17_3: ───────────╫─\n",
       "«                  ║ \n",
       "« c5_0: ═══════════╩═\n",
       "«                    \n",
       "« c5_1: ═════════════\n",
       "«                    \n",
       "« c5_2: ═════════════\n",
       "«                    \n",
       "« c5_3: ═════════════\n",
       "«                    \n",
       "« c5_4: ═════════════\n",
       "«                    </pre>"
      ],
      "text/plain": [
       "<qiskit.visualization.text.TextDrawing at 0x1a228f0d50>"
      ]
     },
     "execution_count": 104,
     "metadata": {},
     "output_type": "execute_result"
    }
   ],
   "source": [
    "circuit.draw()"
   ]
  },
  {
   "cell_type": "code",
   "execution_count": 69,
   "metadata": {},
   "outputs": [],
   "source": [
    "simulator = Aer.get_backend('qasm_simulator')"
   ]
  },
  {
   "cell_type": "code",
   "execution_count": 106,
   "metadata": {},
   "outputs": [],
   "source": [
    "result = execute(circuit, backend=simulator).result()\n",
    "count = result.get_counts()\n"
   ]
  },
  {
   "cell_type": "code",
   "execution_count": 107,
   "metadata": {},
   "outputs": [
    {
     "data": {
      "image/png": "[encoded data removed]",
      "text/plain": [
       "<Figure size 504x360 with 1 Axes>"
      ]
     },
     "execution_count": 107,
     "metadata": {},
     "output_type": "execute_result"
    }
   ],
   "source": [
    "from qiskit.tools.visualization import plot_histogram\n",
    "plot_histogram(count)"
   ]
  },
  {
   "cell_type": "code",
   "execution_count": null,
   "metadata": {},
   "outputs": [],
   "source": []
  }
 ],
 "metadata": {
  "kernelspec": {
   "display_name": "Python 3",
   "language": "python",
   "name": "python3"
  },
  "language_info": {
   "codemirror_mode": {
    "name": "ipython",
    "version": 3
   },
   "file_extension": ".py",
   "mimetype": "text/x-python",
   "name": "python",
   "nbconvert_exporter": "python",
   "pygments_lexer": "ipython3",
   "version": "3.7.4"
  }
 },
 "nbformat": 4,
 "nbformat_minor": 2
}
