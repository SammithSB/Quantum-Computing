{
 "cells": [
  {
   "cell_type": "code",
   "execution_count": 3,
   "metadata": {},
   "outputs": [],
   "source": [
    "import numpy as np\n",
    "import matplotlib.pyplot as plt"
   ]
  },
  {
   "cell_type": "code",
   "execution_count": 10,
   "metadata": {},
   "outputs": [
    {
     "data": {
      "text/plain": [
       "array([[1],\n",
       "       [0]])"
      ]
     },
     "execution_count": 10,
     "metadata": {},
     "output_type": "execute_result"
    }
   ],
   "source": [
    "basis_0 = np.array([[1],[0]])\n",
    "basis_0"
   ]
  },
  {
   "cell_type": "code",
   "execution_count": 11,
   "metadata": {},
   "outputs": [
    {
     "data": {
      "text/plain": [
       "array([[0],\n",
       "       [1]])"
      ]
     },
     "execution_count": 11,
     "metadata": {},
     "output_type": "execute_result"
    }
   ],
   "source": [
    "basis_1 = np.array([[0],[1]])\n",
    "basis_1\n"
   ]
  },
  {
   "cell_type": "code",
   "execution_count": 14,
   "metadata": {},
   "outputs": [
    {
     "data": {
      "text/plain": [
       "array([[1, 0]])"
      ]
     },
     "execution_count": 14,
     "metadata": {},
     "output_type": "execute_result"
    }
   ],
   "source": [
    "basis_0.conjugate().transpose()"
   ]
  },
  {
   "cell_type": "code",
   "execution_count": 15,
   "metadata": {},
   "outputs": [
    {
     "data": {
      "text/plain": [
       "array([[0, 1]])"
      ]
     },
     "execution_count": 15,
     "metadata": {},
     "output_type": "execute_result"
    }
   ],
   "source": [
    "basis_1.conjugate().transpose()"
   ]
  },
  {
   "cell_type": "code",
   "execution_count": 66,
   "metadata": {},
   "outputs": [
    {
     "ename": "IndentationError",
     "evalue": "unindent does not match any outer indentation level (<tokenize>, line 26)",
     "output_type": "error",
     "traceback": [
      "\u001b[0;36m  File \u001b[0;32m\"<tokenize>\"\u001b[0;36m, line \u001b[0;32m26\u001b[0m\n\u001b[0;31m    return ' '\u001b[0m\n\u001b[0m    ^\u001b[0m\n\u001b[0;31mIndentationError\u001b[0m\u001b[0;31m:\u001b[0m unindent does not match any outer indentation level\n"
     ]
    }
   ],
   "source": [
    "import numpy as np\n",
    "α=float(input('enter the coefficient of 0 in qubit: '))\n",
    "β=float(input('enter the coefficient of 1 in qubit: '))\n",
    "def initialise_qubit_to_ket(α,β):\n",
    "    ket=np.array([[α],[β]])\n",
    "    if α**2+β**2==1:\n",
    "        return ket\n",
    "    else:\n",
    "        print('invalid value for qubits')\n",
    "print(initialise_ket_qubit(α,β))\n",
    "def initialise_qubit_to_bra(α,β):\n",
    "    bra=np.array([[α],[β]]).conjugate().transpose()\n",
    "    if α**2+β**2==1:\n",
    "        return bra\n",
    "    else:\n",
    "        print('invalid value for qubit')\n",
    "initialise_qubit_to_bra(α,β)\n",
    "\n",
    "#construction of standard basis\n",
    "n=int(input('enter the number of qubits: '))\n",
    "num_of_basis=2**n    \n",
    "def construct_standard_basis(n):\n",
    "      for i in range(0,num_of_basis):\n",
    "        basis = '0'*(n-len(bin(i)[2:]))+bin(i)[2:]\n",
    "        print('|',basis,'>')\n",
    "    return ' '\n",
    "print(construct_standard_basis(n))\n",
    "\n",
    "\n",
    "\n",
    "#finding inner product\n",
    "α=float(input('enter value of coefficient of 0 of the qubit'))\n",
    "β=float(input('enter value of coefficient of 1 of qubit'))\n",
    "if α**2+β**2==1:\n",
    "    ket=np.array([[0],[1]])\n",
    "    bra=ket.conjugate().transpose()\n",
    "    np.dot(bra,ket)\n",
    "    print(np.dot(bra,ket))\n",
    "else:\n",
    "    print('enter value valid value of qubit')\n",
    "\n",
    "    \n",
    "\n",
    "    \n",
    "    \n",
    "#measuring qubit\n",
    "α=float(input('enter value of coefficient of 0 of the qubit: '))\n",
    "β=float(input('enter value of coefficient of 1 of qubit: '))\n",
    "def measure_qubit(input_qubit,standard_state):\n",
    "    input_qubit=np.array([[α],[β]])\n",
    "    standard_state_qubit=np.array([[γ],[δ]])\n",
    "    print(np.dot(input_qubit.conjugate().transpose(),general_state_qubit))\n",
    "    return ' '\n",
    "print(measure_qubit(input_qubit,[[1],[0]]))\n",
    "\n",
    "#measuring multiple qubit\n",
    "α=float(input('enter value of coefficient of first value in qubit'))\n",
    "β=float(input('enter value of coefficient of second value in qubit'))\n",
    "γ=float(input('enter value of coefficient of third value in qubit'))\n",
    "δ=float(input('enter value of coefficient of fourth value in qubit'))\n",
    "def measure_multiple_qubits(input_value,standard_value):\n",
    "    input_value=np.array([[α],[β],[γ],[δ]])\n",
    "    standard_state=np.arrar([[1],[0],[0],[0]])\n",
    "    print(np.dot(input_state,standard_state))\n",
    "print(measure_multiple_qubits(input_value,[[1],[0],[0],[0]]))\n",
    "\n",
    "#finding density matrix of single qubit\n",
    "α=float(input('enter value of coefficient of 0 of the qubit'))\n",
    "β=float(input('enter value of coefficient of 1 of qubit'))\n",
    "def find_density_matrix(α,β):\n",
    "    if α**2+β**2==1:\n",
    "        ket=np.array([[α],[β]])\n",
    "        bra=ket.conjugate().transpose()\n",
    "        np.dot(ket,bra)\n",
    "        print(np.dot(ket,bra))\n",
    "    else:\n",
    "        print('enter value valid value of qubit')\n",
    "print(find_density_matrix)\n"
   ]
  },
  {
   "cell_type": "code",
   "execution_count": 64,
   "metadata": {},
   "outputs": [
    {
     "name": "stdout",
     "output_type": "stream",
     "text": [
      "2\n",
      "| 00 >\n",
      "| 01 >\n",
      "| 10 >\n",
      "| 11 >\n",
      " \n"
     ]
    }
   ],
   "source": [
    "n=int(input())\n",
    "num_of_basis=2**n\n",
    "def construct_standard_basis(n):\n",
    "    for i in range(0,num_of_basis):\n",
    "        basis = '0'*(n-len(bin(i)[2:]))+bin(i)[2:]\n",
    "        print('|',basis,'>')\n",
    "    return ' '\n",
    "print(construct_standard_basis(n))\n"
   ]
  },
  {
   "cell_type": "code",
   "execution_count": 101,
   "metadata": {},
   "outputs": [
    {
     "name": "stdout",
     "output_type": "stream",
     "text": [
      "enter value of coefficient of 0 of the qubit0.8\n",
      "enter value of coefficient of 1 of qubit0.6\n",
      "[[0 0]\n",
      " [0 1]]\n"
     ]
    }
   ],
   "source": [
    "#finding inner product\n",
    "α=float(input('enter value of coefficient of 0 of the qubit'))\n",
    "β=float(input('enter value of coefficient of 1 of qubit'))\n",
    "if α**2+β**2==1:\n",
    "    ket=np.array([[0],[1]])\n",
    "    bra=ket.conjugate().transpose()\n",
    "    np.dot(ket,bra)\n",
    "    print(np.dot(ket,bra))\n",
    "else:\n",
    "    print('enter value valid value of qubit')\n",
    "    "
   ]
  },
  {
   "cell_type": "code",
   "execution_count": 76,
   "metadata": {},
   "outputs": [
    {
     "name": "stdout",
     "output_type": "stream",
     "text": [
      "[[1]]\n"
     ]
    }
   ],
   "source": [
    "a=np.array([[0],[1]])\n",
    "b=a.conjugate().transpose()\n",
    "np.dot(b,a)\n",
    "print(np.dot(b,a))\n"
   ]
  },
  {
   "cell_type": "code",
   "execution_count": 92,
   "metadata": {},
   "outputs": [
    {
     "data": {
      "text/plain": [
       "array([[1]])"
      ]
     },
     "execution_count": 92,
     "metadata": {},
     "output_type": "execute_result"
    }
   ],
   "source": [
    "input_qubit=np.array([[0],[1]])\n",
    "general_state_qubit=np.array([[0],[1]])\n",
    "np.dot(input_qubit.conjugate().transpose(),general_state_qubit)"
   ]
  },
  {
   "cell_type": "code",
   "execution_count": 99,
   "metadata": {},
   "outputs": [
    {
     "ename": "NameError",
     "evalue": "name 'rn' is not defined",
     "output_type": "error",
     "traceback": [
      "\u001b[0;31m---------------------------------------------------------------------------\u001b[0m",
      "\u001b[0;31mNameError\u001b[0m                                 Traceback (most recent call last)",
      "\u001b[0;32m<ipython-input-99-47ed1a3729c2>\u001b[0m in \u001b[0;36m<module>\u001b[0;34m\u001b[0m\n\u001b[1;32m     27\u001b[0m \u001b[0;31m#checking the function\u001b[0m\u001b[0;34m\u001b[0m\u001b[0;34m\u001b[0m\u001b[0;34m\u001b[0m\u001b[0m\n\u001b[1;32m     28\u001b[0m \u001b[0mqubit_1\u001b[0m \u001b[0;34m=\u001b[0m \u001b[0mnp\u001b[0m\u001b[0;34m.\u001b[0m\u001b[0marray\u001b[0m\u001b[0;34m(\u001b[0m\u001b[0;34m[\u001b[0m\u001b[0;34m[\u001b[0m\u001b[0;36m0\u001b[0m\u001b[0;34m]\u001b[0m\u001b[0;34m,\u001b[0m\u001b[0;34m[\u001b[0m\u001b[0;36m0\u001b[0m\u001b[0;34m]\u001b[0m\u001b[0;34m,\u001b[0m\u001b[0;34m[\u001b[0m\u001b[0;36m1\u001b[0m\u001b[0;34m]\u001b[0m\u001b[0;34m,\u001b[0m\u001b[0;34m[\u001b[0m\u001b[0;36m0\u001b[0m\u001b[0;34m]\u001b[0m\u001b[0;34m]\u001b[0m\u001b[0;34m)\u001b[0m\u001b[0;34m\u001b[0m\u001b[0;34m\u001b[0m\u001b[0m\n\u001b[0;32m---> 29\u001b[0;31m \u001b[0mprint\u001b[0m\u001b[0;34m(\u001b[0m\u001b[0mmeasure_multiple\u001b[0m\u001b[0;34m(\u001b[0m\u001b[0mqubit_1\u001b[0m\u001b[0;34m)\u001b[0m\u001b[0;34m)\u001b[0m\u001b[0;34m\u001b[0m\u001b[0;34m\u001b[0m\u001b[0m\n\u001b[0m",
      "\u001b[0;32m<ipython-input-99-47ed1a3729c2>\u001b[0m in \u001b[0;36mmeasure_multiple\u001b[0;34m(qubits)\u001b[0m\n\u001b[1;32m     10\u001b[0m \u001b[0;32mdef\u001b[0m \u001b[0mmeasure_multiple\u001b[0m\u001b[0;34m(\u001b[0m\u001b[0mqubits\u001b[0m\u001b[0;34m)\u001b[0m\u001b[0;34m:\u001b[0m\u001b[0;31m#the arugment are array\u001b[0m\u001b[0;34m\u001b[0m\u001b[0;34m\u001b[0m\u001b[0m\n\u001b[1;32m     11\u001b[0m     \u001b[0mn\u001b[0m \u001b[0;34m=\u001b[0m \u001b[0mlen\u001b[0m\u001b[0;34m(\u001b[0m\u001b[0mconvt\u001b[0m\u001b[0;34m(\u001b[0m\u001b[0mqubits\u001b[0m\u001b[0;34m)\u001b[0m\u001b[0;34m)\u001b[0m\u001b[0;34m\u001b[0m\u001b[0;34m\u001b[0m\u001b[0m\n\u001b[0;32m---> 12\u001b[0;31m     \u001b[0mrandom_state\u001b[0m \u001b[0;34m=\u001b[0m \u001b[0mrn\u001b[0m\u001b[0;34m.\u001b[0m\u001b[0mrandint\u001b[0m\u001b[0;34m(\u001b[0m\u001b[0;36m2\u001b[0m\u001b[0;34m,\u001b[0m \u001b[0mn\u001b[0m\u001b[0;34m-\u001b[0m\u001b[0;36m1\u001b[0m\u001b[0;34m)\u001b[0m\u001b[0;34m\u001b[0m\u001b[0;34m\u001b[0m\u001b[0m\n\u001b[0m\u001b[1;32m     13\u001b[0m     \u001b[0;32mif\u001b[0m \u001b[0mrandom_state\u001b[0m \u001b[0;34m==\u001b[0m \u001b[0mn\u001b[0m\u001b[0;34m-\u001b[0m\u001b[0;36m1\u001b[0m\u001b[0;34m:\u001b[0m\u001b[0;34m\u001b[0m\u001b[0;34m\u001b[0m\u001b[0m\n\u001b[1;32m     14\u001b[0m         \u001b[0mpart_1\u001b[0m \u001b[0;34m=\u001b[0m \u001b[0mconvt\u001b[0m\u001b[0;34m(\u001b[0m\u001b[0mnp\u001b[0m\u001b[0;34m.\u001b[0m\u001b[0mzeros\u001b[0m\u001b[0;34m(\u001b[0m\u001b[0;34m[\u001b[0m\u001b[0;36m1\u001b[0m\u001b[0;34m,\u001b[0m \u001b[0mn\u001b[0m\u001b[0;34m-\u001b[0m\u001b[0;36m1\u001b[0m\u001b[0;34m]\u001b[0m\u001b[0;34m,\u001b[0m \u001b[0mdtype\u001b[0m \u001b[0;34m=\u001b[0m \u001b[0mint\u001b[0m\u001b[0;34m)\u001b[0m\u001b[0;34m)\u001b[0m\u001b[0;34m\u001b[0m\u001b[0;34m\u001b[0m\u001b[0m\n",
      "\u001b[0;31mNameError\u001b[0m: name 'rn' is not defined"
     ]
    }
   ],
   "source": []
  },
  {
   "cell_type": "code",
   "execution_count": 98,
   "metadata": {},
   "outputs": [
    {
     "name": "stdout",
     "output_type": "stream",
     "text": [
      "enter value of coefficient of 0 of the qubit: 1\n",
      "enter value of coefficient of 1 of qubit: 0\n",
      "[[0.]]\n"
     ]
    }
   ],
   "source": [
    "α=float(input('enter value of coefficient of 0 of the qubit: '))\n",
    "β=float(input('enter value of coefficient of 1 of qubit: '))\n",
    "input_qubit=np.array([[α],[β]])\n",
    "general_state_qubit=np.array([[0],[1]])\n",
    "print(np.dot(input_qubit.conjugate().transpose(),general_state_qubit))\n",
    "\n",
    "\n",
    "                 "
   ]
  },
  {
   "cell_type": "code",
   "execution_count": 109,
   "metadata": {},
   "outputs": [
    {
     "name": "stdout",
     "output_type": "stream",
     "text": [
      "enter the number of qubits: 1\n",
      "| 0 >\n",
      "| 1 >\n",
      " \n"
     ]
    }
   ],
   "source": [
    "n=int(input('enter the number of qubits: '))\n",
    "num_of_basis=2**n    \n",
    "def construct_standard_basis(n):\n",
    "      \n",
    "      for i in range(0,num_of_basis):\n",
    "        basis = '0'*(n-len(bin(i)[2:]))+bin(i)[2:]\n",
    "        print('|',basis,'>')\n",
    "      return ' '\n",
    "    \n",
    "print(construct_standard_basis(n)[0])"
   ]
  },
  {
   "cell_type": "code",
   "execution_count": 116,
   "metadata": {},
   "outputs": [
    {
     "name": "stdout",
     "output_type": "stream",
     "text": [
      "enter value of coefficient of 0 of the qubit: 1\n",
      "enter value of coefficient of 1 of qubit: 0\n",
      "[[0.]]\n",
      "None\n"
     ]
    }
   ],
   "source": [
    "α=float(input('enter value of coefficient of 0 of the qubit: '))\n",
    "β=float(input('enter value of coefficient of 1 of qubit: '))\n",
    "def measure_qubit(input_qubit,standard_state):\n",
    "    input_qubit=np.array([[α],[β]])\n",
    "    standard_state_qubit=np.array([[γ],[δ]])\n",
    "    print(np.dot(input_qubit.conjugate().transpose(),general_state_qubit))\n",
    "    return ' '\n",
    "print(measure_qubit(input_qubit,[[1],[0]]))"
   ]
  }
 ],
 "metadata": {
  "kernelspec": {
   "display_name": "Python 3",
   "language": "python",
   "name": "python3"
  },
  "language_info": {
   "codemirror_mode": {
    "name": "ipython",
    "version": 3
   },
   "file_extension": ".py",
   "mimetype": "text/x-python",
   "name": "python",
   "nbconvert_exporter": "python",
   "pygments_lexer": "ipython3",
   "version": "3.7.4"
  }
 },
 "nbformat": 4,
 "nbformat_minor": 2
}
