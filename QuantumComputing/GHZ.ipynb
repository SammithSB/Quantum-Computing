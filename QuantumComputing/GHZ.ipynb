{
 "cells": [
  {
   "cell_type": "code",
   "execution_count": 1,
   "metadata": {},
   "outputs": [],
   "source": [
    "from qiskit import *"
   ]
  },
  {
   "cell_type": "code",
   "execution_count": 23,
   "metadata": {},
   "outputs": [
    {
     "name": "stdout",
     "output_type": "stream",
     "text": [
      "enter the number of you want to entangle in GHZ gate: 5\n"
     ]
    }
   ],
   "source": [
    "n=int(input('enter the number of you want to entangle in GHZ gate: '))\n",
    "circuit = QuantumCircuit(n,n)"
   ]
  },
  {
   "cell_type": "code",
   "execution_count": 24,
   "metadata": {},
   "outputs": [
    {
     "data": {
      "text/html": [
       "<pre style=\"word-wrap: normal;white-space: pre;background: #fff0;line-height: 1.1;font-family: &quot;Courier New&quot;,Courier,monospace\">        \n",
       "q_0: |0>\n",
       "        \n",
       "q_1: |0>\n",
       "        \n",
       "q_2: |0>\n",
       "        \n",
       "q_3: |0>\n",
       "        \n",
       "q_4: |0>\n",
       "        \n",
       " c_0: 0 \n",
       "        \n",
       " c_1: 0 \n",
       "        \n",
       " c_2: 0 \n",
       "        \n",
       " c_3: 0 \n",
       "        \n",
       " c_4: 0 \n",
       "        </pre>"
      ],
      "text/plain": [
       "<qiskit.visualization.text.TextDrawing at 0x1a1d102390>"
      ]
     },
     "execution_count": 24,
     "metadata": {},
     "output_type": "execute_result"
    }
   ],
   "source": [
    "circuit.draw()"
   ]
  },
  {
   "cell_type": "code",
   "execution_count": 25,
   "metadata": {},
   "outputs": [
    {
     "data": {
      "text/html": [
       "<pre style=\"word-wrap: normal;white-space: pre;background: #fff0;line-height: 1.1;font-family: &quot;Courier New&quot;,Courier,monospace\">        ┌───┐                    \n",
       "q_0: |0>┤ H ├──■─────────────────\n",
       "        └───┘┌─┴─┐               \n",
       "q_1: |0>─────┤ X ├──■────────────\n",
       "             └───┘┌─┴─┐          \n",
       "q_2: |0>──────────┤ X ├──■───────\n",
       "                  └───┘┌─┴─┐     \n",
       "q_3: |0>───────────────┤ X ├──■──\n",
       "                       └───┘┌─┴─┐\n",
       "q_4: |0>────────────────────┤ X ├\n",
       "                            └───┘\n",
       " c_0: 0 ═════════════════════════\n",
       "                                 \n",
       " c_1: 0 ═════════════════════════\n",
       "                                 \n",
       " c_2: 0 ═════════════════════════\n",
       "                                 \n",
       " c_3: 0 ═════════════════════════\n",
       "                                 \n",
       " c_4: 0 ═════════════════════════\n",
       "                                 </pre>"
      ],
      "text/plain": [
       "<qiskit.visualization.text.TextDrawing at 0x1a1d0eee10>"
      ]
     },
     "execution_count": 25,
     "metadata": {},
     "output_type": "execute_result"
    }
   ],
   "source": [
    "circuit.h(0)\n",
    "for i in range(n-1):\n",
    "    circuit.cx(i,i+1)\n",
    "circuit.draw()"
   ]
  },
  {
   "cell_type": "code",
   "execution_count": 26,
   "metadata": {},
   "outputs": [
    {
     "data": {
      "text/html": [
       "<pre style=\"word-wrap: normal;white-space: pre;background: #fff0;line-height: 1.1;font-family: &quot;Courier New&quot;,Courier,monospace\">        ┌───┐          ┌─┐                      \n",
       "q_0: |0>┤ H ├──■───────┤M├──────────────────────\n",
       "        └───┘┌─┴─┐     └╥┘     ┌─┐              \n",
       "q_1: |0>─────┤ X ├──■───╫──────┤M├──────────────\n",
       "             └───┘┌─┴─┐ ║      └╥┘     ┌─┐      \n",
       "q_2: |0>──────────┤ X ├─╫───■───╫──────┤M├──────\n",
       "                  └───┘ ║ ┌─┴─┐ ║      └╥┘┌─┐   \n",
       "q_3: |0>────────────────╫─┤ X ├─╫───■───╫─┤M├───\n",
       "                        ║ └───┘ ║ ┌─┴─┐ ║ └╥┘┌─┐\n",
       "q_4: |0>────────────────╫───────╫─┤ X ├─╫──╫─┤M├\n",
       "                        ║       ║ └───┘ ║  ║ └╥┘\n",
       " c_0: 0 ════════════════╩═══════╬═══════╬══╬══╬═\n",
       "                                ║       ║  ║  ║ \n",
       " c_1: 0 ════════════════════════╩═══════╬══╬══╬═\n",
       "                                        ║  ║  ║ \n",
       " c_2: 0 ════════════════════════════════╩══╬══╬═\n",
       "                                           ║  ║ \n",
       " c_3: 0 ═══════════════════════════════════╩══╬═\n",
       "                                              ║ \n",
       " c_4: 0 ══════════════════════════════════════╩═\n",
       "                                                </pre>"
      ],
      "text/plain": [
       "<qiskit.visualization.text.TextDrawing at 0x1a1cfe84d0>"
      ]
     },
     "execution_count": 26,
     "metadata": {},
     "output_type": "execute_result"
    }
   ],
   "source": [
    "for i in range(n):\n",
    "    circuit.measure(i,i)\n",
    "circuit.draw()"
   ]
  },
  {
   "cell_type": "code",
   "execution_count": 27,
   "metadata": {},
   "outputs": [
    {
     "data": {
      "image/png": "[encoded data removed]",
      "text/plain": [
       "<Figure size 504x360 with 1 Axes>"
      ]
     },
     "execution_count": 27,
     "metadata": {},
     "output_type": "execute_result"
    }
   ],
   "source": [
    "simulator = Aer.get_backend('qasm_simulator')\n",
    "result = execute(circuit, backend = simulator, shots=1024).result()\n",
    "count = result.get_counts()\n",
    "from qiskit.tools.visualization import plot_histogram\n",
    "plot_histogram(count)"
   ]
  },
  {
   "cell_type": "code",
   "execution_count": 28,
   "metadata": {},
   "outputs": [
    {
     "name": "stderr",
     "output_type": "stream",
     "text": [
      "/Users/sammithsbharadwaj/opt/anaconda3/lib/python3.7/site-packages/qiskit/providers/models/backendconfiguration.py:337: UserWarning: `dt` and `dtm` now have units of seconds(s) rather than nanoseconds(ns).\n",
      "  warnings.warn('`dt` and `dtm` now have units of seconds(s) rather '\n"
     ]
    },
    {
     "data": {
      "text/plain": [
       "<AccountProvider for IBMQ(hub='ibm-q', group='open', project='main')>"
      ]
     },
     "execution_count": 28,
     "metadata": {},
     "output_type": "execute_result"
    }
   ],
   "source": [
    "IBMQ.load_account()"
   ]
  },
  {
   "cell_type": "code",
   "execution_count": 9,
   "metadata": {},
   "outputs": [],
   "source": [
    "provider = IBMQ.get_provider('ibm-q')"
   ]
  },
  {
   "cell_type": "code",
   "execution_count": 10,
   "metadata": {},
   "outputs": [],
   "source": [
    "qcomp = provider.get_backend('ibmq_16_melbourne')"
   ]
  },
  {
   "cell_type": "code",
   "execution_count": 11,
   "metadata": {},
   "outputs": [],
   "source": [
    "job = execute(circuit,backend=qcomp)"
   ]
  },
  {
   "cell_type": "code",
   "execution_count": 12,
   "metadata": {},
   "outputs": [],
   "source": [
    "from qiskit.tools.monitor import job_monitor"
   ]
  },
  {
   "cell_type": "code",
   "execution_count": 13,
   "metadata": {},
   "outputs": [
    {
     "name": "stdout",
     "output_type": "stream",
     "text": [
      "Job Status: job has successfully run\n"
     ]
    }
   ],
   "source": [
    "job_monitor(job)"
   ]
  },
  {
   "cell_type": "code",
   "execution_count": 15,
   "metadata": {},
   "outputs": [],
   "source": [
    "result = job.result(job)"
   ]
  },
  {
   "cell_type": "code",
   "execution_count": 17,
   "metadata": {},
   "outputs": [
    {
     "data": {
      "image/png": "[encoded data removed]",
      "text/plain": [
       "<Figure size 504x360 with 1 Axes>"
      ]
     },
     "execution_count": 17,
     "metadata": {},
     "output_type": "execute_result"
    }
   ],
   "source": [
    "plot_histogram(result.get_counts(circuit))"
   ]
  },
  {
   "cell_type": "code",
   "execution_count": null,
   "metadata": {},
   "outputs": [],
   "source": []
  }
 ],
 "metadata": {
  "kernelspec": {
   "display_name": "Python 3",
   "language": "python",
   "name": "python3"
  },
  "language_info": {
   "codemirror_mode": {
    "name": "ipython",
    "version": 3
   },
   "file_extension": ".py",
   "mimetype": "text/x-python",
   "name": "python",
   "nbconvert_exporter": "python",
   "pygments_lexer": "ipython3",
   "version": "3.7.4"
  }
 },
 "nbformat": 4,
 "nbformat_minor": 2
}
