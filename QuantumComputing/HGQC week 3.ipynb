{
 "cells": [
  {
   "cell_type": "code",
   "execution_count": 13,
   "metadata": {},
   "outputs": [
    {
     "data": {
      "text/plain": [
       "array([[1, 0],\n",
       "       [0, 1]])"
      ]
     },
     "execution_count": 13,
     "metadata": {},
     "output_type": "execute_result"
    }
   ],
   "source": [
    "import numpy as np\n",
    "U=np.array([[0,1],[1,0]]).conjugate().transpose()\n",
    "Y=np.array([[0,1],[1,0]])\n",
    "np.matmul(U,Y)"
   ]
  },
  {
   "cell_type": "code",
   "execution_count": 75,
   "metadata": {
    "scrolled": false
   },
   "outputs": [
    {
     "name": "stdout",
     "output_type": "stream",
     "text": [
      "enter coefficient of matrix at position (1,1): 1\n",
      "enter coefficient of matrix at position (1,2): 1\n",
      "enter coefficient of matrix at position (2,1): 1\n",
      "enter coefficient of matrix at position (2,2): 1\n"
     ]
    },
    {
     "name": "stderr",
     "output_type": "stream",
     "text": [
      "//anaconda3/lib/python3.7/site-packages/ipykernel_launcher.py:10: DeprecationWarning: attempting to conjugate non-numeric dtype; this will error in the future to match the behavior of np.conjugate\n",
      "  # Remove the CWD from sys.path while we load stuff.\n"
     ]
    },
    {
     "ename": "ValueError",
     "evalue": "data type must provide an itemsize",
     "output_type": "error",
     "traceback": [
      "\u001b[0;31m---------------------------------------------------------------------------\u001b[0m",
      "\u001b[0;31mValueError\u001b[0m                                Traceback (most recent call last)",
      "\u001b[0;32m<ipython-input-75-0deb0b072a3f>\u001b[0m in \u001b[0;36m<module>\u001b[0;34m\u001b[0m\n\u001b[1;32m     16\u001b[0m     \u001b[0;32melse\u001b[0m\u001b[0;34m:\u001b[0m\u001b[0;34m\u001b[0m\u001b[0;34m\u001b[0m\u001b[0m\n\u001b[1;32m     17\u001b[0m         \u001b[0;32mreturn\u001b[0m \u001b[0;34m'invalid gate'\u001b[0m\u001b[0;34m\u001b[0m\u001b[0;34m\u001b[0m\u001b[0m\n\u001b[0;32m---> 18\u001b[0;31m \u001b[0mgate_validater\u001b[0m\u001b[0;34m(\u001b[0m\u001b[0mα\u001b[0m\u001b[0;34m,\u001b[0m\u001b[0mβ\u001b[0m\u001b[0;34m)\u001b[0m\u001b[0;34m\u001b[0m\u001b[0;34m\u001b[0m\u001b[0m\n\u001b[0m",
      "\u001b[0;32m<ipython-input-75-0deb0b072a3f>\u001b[0m in \u001b[0;36mgate_validater\u001b[0;34m(α, β)\u001b[0m\n\u001b[1;32m      9\u001b[0m     \u001b[0mP\u001b[0m\u001b[0;34m=\u001b[0m\u001b[0mnp\u001b[0m\u001b[0;34m.\u001b[0m\u001b[0marray\u001b[0m\u001b[0;34m(\u001b[0m\u001b[0;34m[\u001b[0m\u001b[0;34m[\u001b[0m\u001b[0mα\u001b[0m\u001b[0;34m]\u001b[0m\u001b[0;34m,\u001b[0m\u001b[0;34m[\u001b[0m\u001b[0mβ\u001b[0m\u001b[0;34m]\u001b[0m\u001b[0;34m]\u001b[0m\u001b[0;34m)\u001b[0m\u001b[0;34m\u001b[0m\u001b[0;34m\u001b[0m\u001b[0m\n\u001b[1;32m     10\u001b[0m     \u001b[0mQ\u001b[0m\u001b[0;34m=\u001b[0m\u001b[0mP\u001b[0m\u001b[0;34m.\u001b[0m\u001b[0mconjugate\u001b[0m\u001b[0;34m(\u001b[0m\u001b[0;34m)\u001b[0m\u001b[0;34m.\u001b[0m\u001b[0mtranspose\u001b[0m\u001b[0;34m(\u001b[0m\u001b[0;34m)\u001b[0m\u001b[0;34m\u001b[0m\u001b[0;34m\u001b[0m\u001b[0m\n\u001b[0;32m---> 11\u001b[0;31m     \u001b[0;32mif\u001b[0m \u001b[0mnp\u001b[0m\u001b[0;34m.\u001b[0m\u001b[0mdot\u001b[0m\u001b[0;34m(\u001b[0m\u001b[0mP\u001b[0m\u001b[0;34m,\u001b[0m\u001b[0mQ\u001b[0m\u001b[0;34m)\u001b[0m\u001b[0;34m==\u001b[0m\u001b[0mnp\u001b[0m\u001b[0;34m.\u001b[0m\u001b[0mdot\u001b[0m\u001b[0;34m(\u001b[0m\u001b[0mQ\u001b[0m\u001b[0;34m,\u001b[0m\u001b[0mP\u001b[0m\u001b[0;34m)\u001b[0m\u001b[0;34m:\u001b[0m\u001b[0;34m\u001b[0m\u001b[0;34m\u001b[0m\u001b[0m\n\u001b[0m\u001b[1;32m     12\u001b[0m         \u001b[0;32mif\u001b[0m \u001b[0mnp\u001b[0m\u001b[0;34m.\u001b[0m\u001b[0mdot\u001b[0m\u001b[0;34m(\u001b[0m\u001b[0mP\u001b[0m\u001b[0;34m,\u001b[0m\u001b[0mQ\u001b[0m\u001b[0;34m)\u001b[0m\u001b[0;34m==\u001b[0m\u001b[0mnp\u001b[0m\u001b[0;34m.\u001b[0m\u001b[0marray\u001b[0m\u001b[0;34m(\u001b[0m\u001b[0;34m[\u001b[0m\u001b[0;34m[\u001b[0m\u001b[0;36m1\u001b[0m\u001b[0;34m,\u001b[0m\u001b[0;36m0\u001b[0m\u001b[0;34m]\u001b[0m\u001b[0;34m,\u001b[0m\u001b[0;34m[\u001b[0m\u001b[0;36m0\u001b[0m\u001b[0;34m,\u001b[0m\u001b[0;36m1\u001b[0m\u001b[0;34m]\u001b[0m\u001b[0;34m]\u001b[0m\u001b[0;34m)\u001b[0m\u001b[0;34m:\u001b[0m\u001b[0;34m\u001b[0m\u001b[0;34m\u001b[0m\u001b[0m\n\u001b[1;32m     13\u001b[0m             \u001b[0;32mreturn\u001b[0m \u001b[0;34m'valid gate'\u001b[0m\u001b[0;34m\u001b[0m\u001b[0;34m\u001b[0m\u001b[0m\n",
      "\u001b[0;31mValueError\u001b[0m: data type must provide an itemsize"
     ]
    }
   ],
   "source": [
    "import numpy as np\n",
    "coeff_of_11=input('enter coefficient of matrix at position (1,1): ')\n",
    "coeff_of_12=input('enter coefficient of matrix at position (1,2): ')\n",
    "coeff_of_21=input('enter coefficient of matrix at position (2,1): ')\n",
    "coeff_of_22=input('enter coefficient of matrix at position (2,2): ')\n",
    "α=np.array([[coeff_of_11],[coeff_of_21]])\n",
    "β=np.array([[coeff_of_12],[coeff_of_22]])\n",
    "def gate_validater(α,β):\n",
    "    P=np.array([[α],[β]])\n",
    "    Q=P.conjugate().transpose()\n",
    "    if np.dot(P,Q)==np.dot(Q,P):\n",
    "        if np.dot(P,Q)==np.array([[1,0],[0,1]]):\n",
    "            return 'valid gate'\n",
    "        else:\n",
    "            return 'invalid gate'\n",
    "    else:\n",
    "        return 'invalid gate'\n",
    "gate_validater(α,β)"
   ]
  },
  {
   "cell_type": "code",
   "execution_count": 39,
   "metadata": {},
   "outputs": [
    {
     "name": "stdout",
     "output_type": "stream",
     "text": [
      "valid\n"
     ]
    },
    {
     "data": {
      "text/plain": [
       "array([[1]])"
      ]
     },
     "execution_count": 39,
     "metadata": {},
     "output_type": "execute_result"
    }
   ],
   "source": [
    "import math\n",
    "a=np.array([[1],[0]])\n",
    "b=np.array([[1],[0]]).transpose()\n",
    "c=np.dot(b,a).round()\n",
    "if c==1:\n",
    "    print('valid')\n",
    "else:\n",
    "    print('invalid')\n",
    "c"
   ]
  },
  {
   "cell_type": "code",
   "execution_count": 44,
   "metadata": {},
   "outputs": [
    {
     "name": "stdout",
     "output_type": "stream",
     "text": [
      "10\n"
     ]
    }
   ],
   "source": [
    "coeff_of_11=10\n",
    "print(coeff_of_11)"
   ]
  },
  {
   "cell_type": "code",
   "execution_count": 70,
   "metadata": {},
   "outputs": [
    {
     "data": {
      "text/plain": [
       "array([[1, 0],\n",
       "       [0, 1]])"
      ]
     },
     "execution_count": 70,
     "metadata": {},
     "output_type": "execute_result"
    }
   ],
   "source": [
    "np.matmul(U,Z)\n",
    "\n"
   ]
  },
  {
   "cell_type": "code",
   "execution_count": 71,
   "metadata": {},
   "outputs": [
    {
     "data": {
      "text/plain": [
       "array([[1, 0],\n",
       "       [0, 1]])"
      ]
     },
     "execution_count": 71,
     "metadata": {},
     "output_type": "execute_result"
    }
   ],
   "source": [
    "np.matmul(Z,U)"
   ]
  },
  {
   "cell_type": "code",
   "execution_count": 72,
   "metadata": {},
   "outputs": [
    {
     "data": {
      "text/plain": [
       "array([[0, 1],\n",
       "       [1, 0]])"
      ]
     },
     "execution_count": 72,
     "metadata": {},
     "output_type": "execute_result"
    }
   ],
   "source": [
    "U"
   ]
  },
  {
   "cell_type": "code",
   "execution_count": 16,
   "metadata": {},
   "outputs": [
    {
     "data": {
      "text/plain": [
       "array([[0.],\n",
       "       [1.]])"
      ]
     },
     "execution_count": 16,
     "metadata": {},
     "output_type": "execute_result"
    }
   ],
   "source": [
    "import numpy as np\n",
    "import math\n",
    "\n",
    "\n",
    "# checking validity\n",
    "def gate_validator(Q):\n",
    "    Q1=Q.conjugate().transpose()\n",
    "    Q2=np.array([[1,0],[0,1]])\n",
    "    if np.dot(Q,Q1).all()==Q2.all():\n",
    "        return 'valid'\n",
    "    else:\n",
    "        return 'invalid'\n",
    "        \n",
    "        \n",
    "        \n",
    "#defining pauli X gate\n",
    "def pauli_X(Q):\n",
    "    gate_validator(Q)\n",
    "    X=np.array([[0,1],[1,0]])\n",
    "    return np.matmul(X,Q)\n",
    "\n",
    "\n",
    "# defining pauli Y gate\n",
    "def pauli_Y(Q):\n",
    "    gate_validator(Q)\n",
    "    Y=np.array([[0,-1j],[1j,0]])\n",
    "    return np.matmul(Y,Q)\n",
    "\n",
    "\n",
    "\n",
    "# defining pauli Z gate\n",
    "def pauli_Z(Q):\n",
    "    gate_validator(Q)\n",
    "    Z=np.array([[1,0],[0,-1]])\n",
    "    return np.matmul(Z,Q)\n",
    "\n",
    "\n",
    "# defining Hadamard gate\n",
    "def pauli_H(Q):\n",
    "    gate_validator(Q)\n",
    "    H=np.array([[1/math.sqrt(2),1/math.sqrt(2)],[1/math.sqrt(2),-1/math.sqrt(2)]])\n",
    "    return np.matmul(H,Q)\n",
    "\n",
    "\n",
    "\n",
    "# defining CNOT gate\n",
    "# enter Q as crossproduct of the two qubits i.e np.kron(qubit,qubit2)\n",
    "def CNOT1(Q):\n",
    "    gate_validator(Q)\n",
    "    CNOT=np.array([[1,0,0,0],[0,1,0,0],[0,0,0,1],[0,0,1,0]])\n",
    "    return np.matmul(CNOT,Q)\n",
    "\n",
    "def CNOT2(Q1,Q2):\n",
    "    gate_validator(Q1)\n",
    "    gate_validator(Q2)\n",
    "    CNOT=np.array([[1,0,0,0],[0,1,0,0],[0,0,0,1],[0,0,1,0]])\n",
    "    Q=np.kron(Q1,Q2)\n",
    "    return np.matmul(CNOT,Q)\n",
    "    \n",
    "    \n",
    "    \n",
    "# defining CCNOT gate(type1)\n",
    "# take crossproduct first two qubits as np.kron(qubit1,qubit2) and then take crossproduct of the result with third qubit in the same way as done before\n",
    "def CCNOT1(Q):\n",
    "    gate_validator(Q)\n",
    "    CCNOT=np.array([[1,0,0,0,0,0,0,0],[0,1,0,0,0,0,0,0],[0,0,1,0,0,0,0,0],[0,0,0,1,0,0,0,0],[0,0,0,0,1,0,0,0],[0,0,0,0,0,1,0,0],[0,0,0,0,0,0,0,1],[0,0,0,0,0,0,1,0]])\n",
    "    return np.matmul(CCNOT,Q)\n",
    "\n",
    "\n",
    "\n",
    "# defining CCNOT gate(type2)\n",
    "# enter three qubits in the function\n",
    "def CCNOT2(Q1,Q2,Q3):\n",
    "    gate_validator(Q1)\n",
    "    gate_validator(Q2)\n",
    "    gate_validator(Q3)\n",
    "    CCNOT=np.array([[1,0,0,0,0,0,0,0],[0,1,0,0,0,0,0,0],[0,0,1,0,0,0,0,0],[0,0,0,1,0,0,0,0],[0,0,0,0,1,0,0,0],[0,0,0,0,0,1,0,0],[0,0,0,0,0,0,0,1],[0,0,0,0,0,0,1,0]])\n",
    "    Q=np.kron(Q1,Q2)\n",
    "    Q=np.kron(Q,Q3)\n",
    "    return np.matmul(CCNOT,Q)\n",
    "\n",
    "\n",
    "# defining swap gate(type1)\n",
    "def SWAP1(Q1,Q2):\n",
    "    gate_validator(Q1)\n",
    "    gate_validator(Q2)\n",
    "    SWAP1=np.array([[1,0,0,0],[0,0,1,0],[0,1,0,0],[0,0,0,1]])\n",
    "    Q=np.kron(Q1,Q2)\n",
    "    return np.matmul(SWAP1,Q)\n",
    "\n",
    "\n",
    "# defining swap gate(type2)\n",
    "# Q=np.kron(Q1,Q2)\n",
    "def SWAP2(Q):\n",
    "    gate_validator(Q)\n",
    "    SWAP2=np.array([[1,0,0,0],[0,0,1,0],[0,1,0,0],[0,0,0,1]])\n",
    "    return np.matmul(SWAP2,Q)\n",
    "\n",
    "\n",
    "\n",
    "# Combining gates\n",
    "\n",
    "def XZ(Q):\n",
    "    gate_validator(Q)\n",
    "    XZ=pauli_X(pauli_Z(Q))\n",
    "    return XZ\n",
    "\n",
    "def YZ(Q):\n",
    "    gate_validator(Q)\n",
    "    YZ=pauli_Y(pauli_Z(Q))\n",
    "    return YZ\n",
    "\n",
    "def XY(Q):\n",
    "    gate_validator(Q)\n",
    "    XY=pauli_X(pauli_Y(Q))\n",
    "    return XY\n",
    "    \n",
    "def HX(Q):\n",
    "    gate_validator(Q)\n",
    "    HX=pauli_H(pauli_X(Q))\n",
    "    return HX\n",
    "\n",
    "def HY(Q):\n",
    "    gate_validator(Q)\n",
    "    HY=pauli_H(pauli_Y(Q))\n",
    "    return HY\n",
    "\n",
    "def HZ(Q):\n",
    "    gate_validator(Q)\n",
    "    HZ=pauli_H(pauli_Z(Q))\n",
    "    return HZ\n",
    "\n",
    "pauli_H(np.array([[0.70710678],[-0.70710678]]))"
   ]
  },
  {
   "cell_type": "code",
   "execution_count": 23,
   "metadata": {},
   "outputs": [
    {
     "data": {
      "text/plain": [
       "'invalid'"
      ]
     },
     "execution_count": 23,
     "metadata": {},
     "output_type": "execute_result"
    }
   ],
   "source": [
    "def gate_validator(Q):\n",
    "    Q1=Q.conjugate().transpose()\n",
    "    Q2=np.array([[1,0],[0,1]])\n",
    "    if np.matmul(Q,Q1).all()==Q2.all():\n",
    "        return 'valid'\n",
    "    else:\n",
    "        return 'invalid'\n",
    "gate_validator(np.array([[1],[1]]))"
   ]
  },
  {
   "cell_type": "code",
   "execution_count": 133,
   "metadata": {},
   "outputs": [
    {
     "data": {
      "text/plain": [
       "array([1, 0, 0, 0])"
      ]
     },
     "execution_count": 133,
     "metadata": {},
     "output_type": "execute_result"
    }
   ],
   "source": [
    "def CNOT(Q):\n",
    "    CNOT=np.array([[1,0,0,0],[0,1,0,0],[0,0,0,1],[0,0,1,0]])\n",
    "    return np.matmul(CNOT,Q)\n",
    "Q=np.kron([1,0],[1,0])\n",
    "CNOT(Q)"
   ]
  },
  {
   "cell_type": "code",
   "execution_count": 141,
   "metadata": {},
   "outputs": [
    {
     "data": {
      "text/plain": [
       "array([[0, 1, 0, 0]])"
      ]
     },
     "execution_count": 141,
     "metadata": {},
     "output_type": "execute_result"
    }
   ],
   "source": [
    "Q1=np.array([[1,0]])\n",
    "Q2=np.array([[0,1]])\n",
    "Q=np.kron(Q1,Q2)\n",
    "Q"
   ]
  },
  {
   "cell_type": "code",
   "execution_count": 144,
   "metadata": {},
   "outputs": [
    {
     "data": {
      "text/plain": [
       "array([0, 0, 0, 0, 0, 0, 1])"
      ]
     },
     "execution_count": 144,
     "metadata": {},
     "output_type": "execute_result"
    }
   ],
   "source": [
    "def CCNOT(Q):\n",
    "    CCNOT=np.array([[1,0,0,0,0,0,0,0],[0,1,0,0,0,0,0,0],[0,0,1,0,0,0,0,0],[0,0,0,1,0,0,0,0],[0,0,0,0,1,0,0,0],[0,0,0,0,0,0,0,1],[0,0,0,0,0,0,1,0]])\n",
    "    return np.matmul(CCNOT,Q)\n",
    "Q=np.kron([0,1],[0,1])\n",
    "Q=np.kron(Q,[1,0])\n",
    "CCNOT(Q)"
   ]
  },
  {
   "cell_type": "code",
   "execution_count": 170,
   "metadata": {},
   "outputs": [
    {
     "ename": "ValueError",
     "evalue": "The truth value of an array with more than one element is ambiguous. Use a.any() or a.all()",
     "output_type": "error",
     "traceback": [
      "\u001b[0;31m---------------------------------------------------------------------------\u001b[0m",
      "\u001b[0;31mValueError\u001b[0m                                Traceback (most recent call last)",
      "\u001b[0;32m<ipython-input-170-568db912b891>\u001b[0m in \u001b[0;36m<module>\u001b[0;34m\u001b[0m\n\u001b[1;32m      7\u001b[0m \u001b[0mQ2\u001b[0m\u001b[0;34m=\u001b[0m\u001b[0mQ1\u001b[0m\u001b[0;34m.\u001b[0m\u001b[0mconjugate\u001b[0m\u001b[0;34m(\u001b[0m\u001b[0;34m)\u001b[0m\u001b[0;34m.\u001b[0m\u001b[0mtranspose\u001b[0m\u001b[0;34m(\u001b[0m\u001b[0;34m)\u001b[0m\u001b[0;34m\u001b[0m\u001b[0;34m\u001b[0m\u001b[0m\n\u001b[1;32m      8\u001b[0m \u001b[0mI\u001b[0m\u001b[0;34m=\u001b[0m\u001b[0mnp\u001b[0m\u001b[0;34m.\u001b[0m\u001b[0marray\u001b[0m\u001b[0;34m(\u001b[0m\u001b[0;34m[\u001b[0m\u001b[0;34m[\u001b[0m\u001b[0;36m1\u001b[0m\u001b[0;34m,\u001b[0m\u001b[0;36m0\u001b[0m\u001b[0;34m]\u001b[0m\u001b[0;34m,\u001b[0m\u001b[0;34m[\u001b[0m\u001b[0;36m0\u001b[0m\u001b[0;34m,\u001b[0m\u001b[0;36m1\u001b[0m\u001b[0;34m]\u001b[0m\u001b[0;34m]\u001b[0m\u001b[0;34m)\u001b[0m\u001b[0;34m\u001b[0m\u001b[0;34m\u001b[0m\u001b[0m\n\u001b[0;32m----> 9\u001b[0;31m \u001b[0mgate_validator\u001b[0m\u001b[0;34m(\u001b[0m\u001b[0mQ1\u001b[0m\u001b[0;34m,\u001b[0m\u001b[0mQ2\u001b[0m\u001b[0;34m)\u001b[0m\u001b[0;34m.\u001b[0m\u001b[0mall\u001b[0m\u001b[0;34m(\u001b[0m\u001b[0;34m)\u001b[0m\u001b[0;34m\u001b[0m\u001b[0;34m\u001b[0m\u001b[0m\n\u001b[0m",
      "\u001b[0;32m<ipython-input-170-568db912b891>\u001b[0m in \u001b[0;36mgate_validator\u001b[0;34m(Q1, Q2)\u001b[0m\n\u001b[1;32m      1\u001b[0m \u001b[0;32mdef\u001b[0m \u001b[0mgate_validator\u001b[0m\u001b[0;34m(\u001b[0m\u001b[0mQ1\u001b[0m\u001b[0;34m,\u001b[0m\u001b[0mQ2\u001b[0m\u001b[0;34m)\u001b[0m\u001b[0;34m:\u001b[0m\u001b[0;34m\u001b[0m\u001b[0;34m\u001b[0m\u001b[0m\n\u001b[0;32m----> 2\u001b[0;31m     \u001b[0;32mif\u001b[0m \u001b[0mnp\u001b[0m\u001b[0;34m.\u001b[0m\u001b[0mdot\u001b[0m\u001b[0;34m(\u001b[0m\u001b[0mQ1\u001b[0m\u001b[0;34m,\u001b[0m\u001b[0mQ2\u001b[0m\u001b[0;34m)\u001b[0m\u001b[0;34m==\u001b[0m\u001b[0;34m[\u001b[0m\u001b[0;34m[\u001b[0m\u001b[0;36m1\u001b[0m\u001b[0;34m,\u001b[0m\u001b[0;36m0\u001b[0m\u001b[0;34m]\u001b[0m\u001b[0;34m,\u001b[0m\u001b[0;34m[\u001b[0m\u001b[0;36m0\u001b[0m\u001b[0;34m,\u001b[0m\u001b[0;36m1\u001b[0m\u001b[0;34m]\u001b[0m\u001b[0;34m]\u001b[0m\u001b[0;34m:\u001b[0m\u001b[0;34m\u001b[0m\u001b[0;34m\u001b[0m\u001b[0m\n\u001b[0m\u001b[1;32m      3\u001b[0m         \u001b[0;32mreturn\u001b[0m \u001b[0;34m'valid gate'\u001b[0m\u001b[0;34m\u001b[0m\u001b[0;34m\u001b[0m\u001b[0m\n\u001b[1;32m      4\u001b[0m     \u001b[0;32melse\u001b[0m\u001b[0;34m:\u001b[0m\u001b[0;34m\u001b[0m\u001b[0;34m\u001b[0m\u001b[0m\n\u001b[1;32m      5\u001b[0m         \u001b[0;32mreturn\u001b[0m \u001b[0;34m'invalid gate'\u001b[0m\u001b[0;34m\u001b[0m\u001b[0;34m\u001b[0m\u001b[0m\n",
      "\u001b[0;31mValueError\u001b[0m: The truth value of an array with more than one element is ambiguous. Use a.any() or a.all()"
     ]
    }
   ],
   "source": [
    "def gate_validator(Q1,Q2):\n",
    "    if np.dot(Q1,Q2)==[[1,0],[0,1]]:\n",
    "        return 'valid gate'\n",
    "    else:\n",
    "        return 'invalid gate'\n",
    "Q1=np.array([[0,1],[1,0]])\n",
    "Q2=Q1.conjugate().transpose()\n",
    "I=np.array([[1,0],[0,1]])\n",
    "gate_validator(Q1,Q2).all()\n"
   ]
  },
  {
   "cell_type": "code",
   "execution_count": 172,
   "metadata": {},
   "outputs": [
    {
     "data": {
      "text/plain": [
       "array([[0],\n",
       "       [1]])"
      ]
     },
     "execution_count": 172,
     "metadata": {},
     "output_type": "execute_result"
    }
   ],
   "source": [
    "def XZ(Q):\n",
    "    XZ=pauli_X(pauli_Z(Q))\n",
    "    return XZ\n",
    "XZ(np.array([[1],[0]]))"
   ]
  },
  {
   "cell_type": "code",
   "execution_count": 195,
   "metadata": {},
   "outputs": [
    {
     "name": "stdout",
     "output_type": "stream",
     "text": [
      "valid\n"
     ]
    },
    {
     "data": {
      "text/plain": [
       "array([[1, 0],\n",
       "       [0, 1]])"
      ]
     },
     "execution_count": 195,
     "metadata": {},
     "output_type": "execute_result"
    }
   ],
   "source": [
    "q=np.array([[0,1],[1,0]])\n",
    "q1=q.conjugate().transpose()\n",
    "q2=np.array([[1,0],[0,1]])\n",
    "if np.dot(q,q1).all()==q2.all():\n",
    "    print('valid')\n",
    "else:\n",
    "    print('invalid')\n",
    "np.dot(q,q1)"
   ]
  },
  {
   "cell_type": "code",
   "execution_count": 197,
   "metadata": {},
   "outputs": [
    {
     "name": "stdout",
     "output_type": "stream",
     "text": [
      "invalid\n"
     ]
    }
   ],
   "source": [
    "def gate_validator(Q):\n",
    "    Q1=Q.conjugate().transpose()\n",
    "    Q2=np.array([[1,0],[0,1]])\n",
    "    if np.dot(Q,Q1).all()==Q2.all():\n",
    "        print('valid')\n",
    "    else:\n",
    "        print('invalid')\n",
    "        \n",
    "gate_validator(np.array([[1,1],[1,1]]))"
   ]
  },
  {
   "cell_type": "code",
   "execution_count": 6,
   "metadata": {},
   "outputs": [
    {
     "name": "stdout",
     "output_type": "stream",
     "text": [
      "[[1 1]\n",
      " [0 0]]\n",
      "[[1 1]\n",
      " [0 0]]\n",
      "[[1]\n",
      " [0]]\n",
      "[[1 1]]\n"
     ]
    }
   ],
   "source": [
    "import numpy as np\n",
    "import math\n",
    "a=np.array([[1],[0]])\n",
    "b=np.array([[1],[1]])\n",
    "b=b.conjugate().transpose()\n",
    "print(np.dot(a,b))\n",
    "print(np.matmul(a,b))\n",
    "print(a)\n",
    "print(b)"
   ]
  },
  {
   "cell_type": "code",
   "execution_count": 10,
   "metadata": {},
   "outputs": [
    {
     "data": {
      "text/plain": [
       "array([[0.+1.j],\n",
       "       [0.+0.j]])"
      ]
     },
     "execution_count": 10,
     "metadata": {},
     "output_type": "execute_result"
    }
   ],
   "source": [
    "def pauli_X(Q):\n",
    "    X=np.array([[0,1],[1,0]])\n",
    "    return np.matmul(X,Q)\n",
    "def pauli_Z(Q):\n",
    "    Z=np.array([[1,0],[0,-1]])\n",
    "    return np.matmul(Z,Q)\n",
    "def XZ(Q):\n",
    "    XZ=pauli_X(pauli_Z(Q))\n",
    "    return XZ\n",
    "def YZ(Q):\n",
    "    YZ=pauli_Y(pauli_Z(Q))\n",
    "    return YZ\n",
    "def pauli_Y(Q):\n",
    "    Y=np.array([[0,-1j],[1j,0]])\n",
    "    return np.matmul(Y,Q)\n",
    "YZ(np.array([[0],[1]]))"
   ]
  }
 ],
 "metadata": {
  "kernelspec": {
   "display_name": "Python 3",
   "language": "python",
   "name": "python3"
  },
  "language_info": {
   "codemirror_mode": {
    "name": "ipython",
    "version": 3
   },
   "file_extension": ".py",
   "mimetype": "text/x-python",
   "name": "python",
   "nbconvert_exporter": "python",
   "pygments_lexer": "ipython3",
   "version": "3.7.4"
  }
 },
 "nbformat": 4,
 "nbformat_minor": 2
}
